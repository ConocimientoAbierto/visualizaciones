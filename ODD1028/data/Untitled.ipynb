{
 "cells": [
  {
   "cell_type": "code",
   "execution_count": 1,
   "metadata": {},
   "outputs": [],
   "source": [
    "import pandas as pd"
   ]
  },
  {
   "cell_type": "code",
   "execution_count": 2,
   "metadata": {},
   "outputs": [
    {
     "data": {
      "text/html": [
       "<div>\n",
       "<style scoped>\n",
       "    .dataframe tbody tr th:only-of-type {\n",
       "        vertical-align: middle;\n",
       "    }\n",
       "\n",
       "    .dataframe tbody tr th {\n",
       "        vertical-align: top;\n",
       "    }\n",
       "\n",
       "    .dataframe thead th {\n",
       "        text-align: right;\n",
       "    }\n",
       "</style>\n",
       "<table border=\"1\" class=\"dataframe\">\n",
       "  <thead>\n",
       "    <tr style=\"text-align: right;\">\n",
       "      <th></th>\n",
       "      <th>marca_temporal</th>\n",
       "      <th>nombre</th>\n",
       "      <th>charla_relampago</th>\n",
       "      <th>ciudad_provincia</th>\n",
       "      <th>profesion</th>\n",
       "      <th>profesion_gral</th>\n",
       "      <th>genero</th>\n",
       "      <th>edad</th>\n",
       "      <th>otro_odd</th>\n",
       "    </tr>\n",
       "  </thead>\n",
       "  <tbody>\n",
       "    <tr>\n",
       "      <th>0</th>\n",
       "      <td>2018-02-09 15:43:30.996</td>\n",
       "      <td>Claudia Marcela Casas</td>\n",
       "      <td>NaN</td>\n",
       "      <td>La Plata/Buenos Aires</td>\n",
       "      <td>Empleada Administrativa</td>\n",
       "      <td>Administración</td>\n",
       "      <td>Femenino</td>\n",
       "      <td>50.0</td>\n",
       "      <td>No</td>\n",
       "    </tr>\n",
       "    <tr>\n",
       "      <th>1</th>\n",
       "      <td>2018-02-09 16:02:57.851</td>\n",
       "      <td>Emiliano Marinozzi</td>\n",
       "      <td>NaN</td>\n",
       "      <td>Rosario Santa Fe</td>\n",
       "      <td>Ingeniero</td>\n",
       "      <td>Ingeniería</td>\n",
       "      <td>Masculino</td>\n",
       "      <td>36.0</td>\n",
       "      <td>No</td>\n",
       "    </tr>\n",
       "    <tr>\n",
       "      <th>2</th>\n",
       "      <td>2018-02-09 19:25:04.740</td>\n",
       "      <td>Lucas poss</td>\n",
       "      <td>NaN</td>\n",
       "      <td>Capital</td>\n",
       "      <td>Data sales</td>\n",
       "      <td>Data Science</td>\n",
       "      <td>Masculino</td>\n",
       "      <td>38.0</td>\n",
       "      <td>No</td>\n",
       "    </tr>\n",
       "    <tr>\n",
       "      <th>3</th>\n",
       "      <td>2018-02-10 09:31:48.646</td>\n",
       "      <td>Daniela Puca</td>\n",
       "      <td>NaN</td>\n",
       "      <td>Buenos Aires</td>\n",
       "      <td>Directora de administración de base de datos y...</td>\n",
       "      <td>Administración</td>\n",
       "      <td>Femenino</td>\n",
       "      <td>36.0</td>\n",
       "      <td>Si</td>\n",
       "    </tr>\n",
       "    <tr>\n",
       "      <th>4</th>\n",
       "      <td>2018-02-10 20:58:57.332</td>\n",
       "      <td>Andrea Ramos</td>\n",
       "      <td>NaN</td>\n",
       "      <td>Caba</td>\n",
       "      <td>Licenciada en publicidad</td>\n",
       "      <td>Sociales</td>\n",
       "      <td>Femenino</td>\n",
       "      <td>51.0</td>\n",
       "      <td>No</td>\n",
       "    </tr>\n",
       "  </tbody>\n",
       "</table>\n",
       "</div>"
      ],
      "text/plain": [
       "           marca_temporal                 nombre charla_relampago  \\\n",
       "0 2018-02-09 15:43:30.996  Claudia Marcela Casas              NaN   \n",
       "1 2018-02-09 16:02:57.851     Emiliano Marinozzi              NaN   \n",
       "2 2018-02-09 19:25:04.740             Lucas poss              NaN   \n",
       "3 2018-02-10 09:31:48.646           Daniela Puca              NaN   \n",
       "4 2018-02-10 20:58:57.332           Andrea Ramos              NaN   \n",
       "\n",
       "        ciudad_provincia                                          profesion  \\\n",
       "0  La Plata/Buenos Aires                            Empleada Administrativa   \n",
       "1       Rosario Santa Fe                                          Ingeniero   \n",
       "2                Capital                                         Data sales   \n",
       "3          Buenos Aires   Directora de administración de base de datos y...   \n",
       "4                   Caba                           Licenciada en publicidad   \n",
       "\n",
       "   profesion_gral     genero  edad otro_odd  \n",
       "0  Administración   Femenino  50.0       No  \n",
       "1      Ingeniería  Masculino  36.0       No  \n",
       "2    Data Science  Masculino  38.0       No  \n",
       "3  Administración   Femenino  36.0       Si  \n",
       "4        Sociales   Femenino  51.0       No  "
      ]
     },
     "execution_count": 2,
     "metadata": {},
     "output_type": "execute_result"
    }
   ],
   "source": [
    "df = pd.read_excel('interno -  Inscriptos .xlsx')\n",
    "df.columns = ['marca_temporal', 'nombre', 'charla_relampago', 'ciudad_provincia', 'profesion', \n",
    "              'profesion_gral', 'genero', 'edad', 'otro_odd']\n",
    "df.head()"
   ]
  },
  {
   "cell_type": "code",
   "execution_count": 5,
   "metadata": {},
   "outputs": [],
   "source": [
    "df.to_csv('inscriptos.csv', index=False)"
   ]
  },
  {
   "cell_type": "code",
   "execution_count": 3,
   "metadata": {},
   "outputs": [
    {
     "data": {
      "text/plain": [
       "array(['Administración', 'Ingeniería', 'Data Science', 'Sociales',\n",
       "       'Comunicación y Periodismo', 'Investigación', 'Desarrollador',\n",
       "       'Sistemas', 'Otros', 'Consultor', 'Estudiantes', 'Abogado', nan],\n",
       "      dtype=object)"
      ]
     },
     "execution_count": 3,
     "metadata": {},
     "output_type": "execute_result"
    }
   ],
   "source": [
    "df['profesion_gral'].unique()"
   ]
  },
  {
   "cell_type": "code",
   "execution_count": 4,
   "metadata": {},
   "outputs": [
    {
     "data": {
      "text/plain": [
       "profesion_gral\n",
       "Abogado                      11\n",
       "Administración               19\n",
       "Comunicación y Periodismo    73\n",
       "Consultor                    11\n",
       "Data Science                 26\n",
       "Desarrollador                36\n",
       "Estudiantes                  24\n",
       "Ingeniería                   30\n",
       "Investigación                10\n",
       "Otros                        18\n",
       "Sistemas                     31\n",
       "Sociales                     49\n",
       "Name: profesion_gral, dtype: int64"
      ]
     },
     "execution_count": 4,
     "metadata": {},
     "output_type": "execute_result"
    }
   ],
   "source": [
    "df.groupby('profesion_gral')['profesion_gral'].count()"
   ]
  },
  {
   "cell_type": "code",
   "execution_count": null,
   "metadata": {},
   "outputs": [],
   "source": []
  }
 ],
 "metadata": {
  "kernelspec": {
   "display_name": "Python 3",
   "language": "python",
   "name": "python3"
  },
  "language_info": {
   "codemirror_mode": {
    "name": "ipython",
    "version": 3
   },
   "file_extension": ".py",
   "mimetype": "text/x-python",
   "name": "python",
   "nbconvert_exporter": "python",
   "pygments_lexer": "ipython3",
   "version": "3.6.4"
  }
 },
 "nbformat": 4,
 "nbformat_minor": 2
}
